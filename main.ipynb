{
 "cells": [
  {
   "cell_type": "markdown",
   "metadata": {
    "id": "rqwlWwBPr9Np"
   },
   "source": [
    "### Read training, dev and unlabeled test data"
   ]
  },
  {
   "cell_type": "markdown",
   "metadata": {
    "id": "SkwFbvessT-q"
   },
   "source": [
    "The following provides a starting code (Python 3) of how to read the labeled training and dev cipher text, and unlabeled test cipher text, into lists."
   ]
  },
  {
   "cell_type": "markdown",
   "metadata": {
    "id": "L3BZxqGFsUDu"
   },
   "source": []
  },
  {
   "cell_type": "code",
   "execution_count": 146,
   "metadata": {
    "id": "vopAhDfgr-AA"
   },
   "outputs": [],
   "source": [
    "train, dev, test = [], [], []"
   ]
  },
  {
   "cell_type": "code",
   "execution_count": 147,
   "metadata": {
    "colab": {
     "base_uri": "https://localhost:8080/"
    },
    "id": "-WgvCXM0sXby",
    "outputId": "118e8dfe-aa44-4bc2-e057-dedb3e8beb8e"
   },
   "outputs": [
    {
     "name": "stdout",
     "output_type": "stream",
     "text": [
      "16220\n",
      "[[0, 'lkêcê yoúc cêêö y#êjl lw mówám Újám j Úêê# ütlk Úol lkêú z#ê ctöé8ú ówl xoóóú éê#xw#öê#c .'], [0, '6êcétlê jolêot8 zc éê#xw#öjóáê , tl zc j #jlkê# 8tcl8êcc jöÚ8ê 6wüó lkê öt668ê wx lkê #wj6 , ükê#ê lkê lkêöjltá t#wótêc j#ê lww wÚ2twoc jó6 lkê cê+oj8 éw8tltác lww cöoy .'], [0, 'tx lktc kw8t6jú öw2tê tc coééwcê6 lw Úê j ytxl , cwöêÚw6ú oóü#jééê6 tl êj#8ú , lwwm wol j88 lkê yww6 cloxx , jó6 8êxl Úêktó6 lkê á#jé ( 8tlê#j88ú ) .']]\n"
     ]
    }
   ],
   "source": [
    "for x in open('./train_enc.tsv', encoding='utf-8'):\n",
    "    x = x.rstrip('\\n\\r').split('\\t')\n",
    "    # x[0] will be the label (0 or 1), and x[1] will be the ciphertext sentence.\n",
    "    x[0] = int(x[0]) \n",
    "    train.append(x)\n",
    "print (len(train))\n",
    "print (train[:3])"
   ]
  },
  {
   "cell_type": "code",
   "execution_count": 148,
   "metadata": {
    "colab": {
     "base_uri": "https://localhost:8080/"
    },
    "id": "QXPYs_bbsZnk",
    "outputId": "844ae97f-8cae-4793-d01d-79a2a5ca97e5"
   },
   "outputs": [
    {
     "name": "stdout",
     "output_type": "stream",
     "text": [
      "2027\n",
      "[[1, 'ów8jó Ú#j2ê8ú l#êj6c ükê#ê xêü jöê#tájó xt8öc 6j#ê lw 6ê82ê 77 tólw lkê üw#86 wx jöÚt2j8êóáê jó6 jöÚtyotlú <<<'], [0, 'ê2êó öo#ékú zc ê+éê#l áwötá ltötóy jó6 xjöê6 ákj#tcöj áj ózl #êcáoê lktc êxxw#l .'], [1, 'üt88 jcco#ê68ú #jóm jc wóê wx lkê á8ê2ê#êcl , öwcl 6êáêélt2ê8ú jöoctóy áwöê6têc wx lkê úêj# .']]\n"
     ]
    }
   ],
   "source": [
    "for x in open('./dev_enc.tsv', encoding='utf-8'):\n",
    "    x = x.rstrip('\\n\\r').split('\\t')\n",
    "    # x[0] will be the label (0 or 1), and x[1] will be the ciphertext sentence.\n",
    "    x[0] = int(x[0]) \n",
    "    dev.append(x)\n",
    "print (len(dev))\n",
    "print (dev[:3])"
   ]
  },
  {
   "cell_type": "markdown",
   "metadata": {
    "id": "Ie85BNt6seZO"
   },
   "source": [
    "#### Different from 'train' and 'dev' that are both list of tuples, 'test' will be just a list."
   ]
  },
  {
   "cell_type": "code",
   "execution_count": 149,
   "metadata": {
    "colab": {
     "base_uri": "https://localhost:8080/"
    },
    "id": "KgD7yf1dsblS",
    "outputId": "3234080c-8c35-4f35-a02c-5569e98e87f4"
   },
   "outputs": [
    {
     "name": "stdout",
     "output_type": "stream",
     "text": [
      "2028\n",
      "['j 6t6jáltá jó6 6o88 6wáoöêólj#ú y8w#txútóy cwxlüj#ê jój#ákú .', 'ówlktóy cltámc , #êj88ú , ê+áêél j 8tóyê#tóy á#êêétóêcc wóê xêê8c x#wö Úêtóy 6#jyyê6 lk#woyk j cj6 , cw#6t6 oót2ê#cê wx yoóc , 6#oyc , j2j#táê jó6 6jöjyê6 6#êjöc .', 'öo#ékú jó6 üt8cwó jáloj88ú öjmê j é#êllú yww6 lêjö <<< Úol lkê é#wvêál co##woó6tóy lkêö tc 6tcl#êcctóy8ú #wlê .']\n"
     ]
    }
   ],
   "source": [
    "for x in open('./test_enc_unlabeled.tsv', encoding='utf-8'):\n",
    "    x = x.rstrip('\\n\\r')\n",
    "    test.append(x)\n",
    "print (len(test))\n",
    "print (test[:3])"
   ]
  },
  {
   "cell_type": "markdown",
   "metadata": {
    "id": "1-PPveZAsjwB"
   },
   "source": [
    "#### You can split every sentence into lists of words by white spaces."
   ]
  },
  {
   "cell_type": "code",
   "execution_count": 150,
   "metadata": {
    "id": "f3iwYleSshGn"
   },
   "outputs": [],
   "source": [
    "train_split = [[x[0], x[1].split(' ')] for x in train]\n",
    "dev_split = [[x[0], x[1].split(' ')] for x in dev]\n",
    "test_split = [[x.split(' ')] for x in test]"
   ]
  },
  {
   "cell_type": "markdown",
   "metadata": {
    "id": "4tFNYCDBso_M"
   },
   "source": [
    "### Main Code Body"
   ]
  },
  {
   "cell_type": "markdown",
   "metadata": {
    "id": "br9levWrspCr"
   },
   "source": [
    "You may choose to experiment with different methods using your program. However, you need to embed the training and inference processes at here. We will use your prediction on the unlabeled test data to grade, while checking this part to understand how your method has produced the predictions."
   ]
  },
  {
   "cell_type": "markdown",
   "metadata": {
    "id": "-9uSm0I8Q8ag"
   },
   "source": [
    "Importing the Required Libraries."
   ]
  },
  {
   "cell_type": "code",
   "execution_count": 151,
   "metadata": {
    "id": "IrrrnOImsmqs"
   },
   "outputs": [],
   "source": [
    "import numpy as np\n",
    "import pandas as pd \n",
    "from sklearn.model_selection import train_test_split\n",
    "from keras.preprocessing.text import Tokenizer\n",
    "from keras.preprocessing.sequence import pad_sequences\n",
    "from keras.models import Sequential, load_model\n",
    "from keras.layers import Dropout\n",
    "from keras.layers import Dense, Embedding, LSTM, SpatialDropout1D\n",
    "from keras.callbacks import EarlyStopping, ModelCheckpoint"
   ]
  },
  {
   "cell_type": "code",
   "execution_count": 152,
   "metadata": {
    "id": "beTCEN9Gs4iS"
   },
   "outputs": [],
   "source": [
    "def get_train_val_test_data(train_split,dev_split,test_split):\n",
    "\n",
    "  train_data = pd.DataFrame(train_split, columns=['class_label', 'cipher_sentence'])\n",
    "  # converting the token representation to sentence representation.\n",
    "  train_data['cipher_sentence'] = [\" \".join(t) for t in train_data['cipher_sentence'].values]\n",
    "\n",
    "  validation_data = pd.DataFrame(dev_split, columns=['class_label', 'cipher_sentence'])\n",
    "  # converting the token representation to sentence representation.\n",
    "  validation_data['cipher_sentence'] = [\" \".join(t) for t in validation_data['cipher_sentence'].values]\n",
    "\n",
    "  test_data = pd.DataFrame(test_split, columns=['cipher_sentence'])\n",
    "  # converting the token representation to sentence representation.\n",
    "  test_data['cipher_sentence'] = [\" \".join(t) for t in test_data['cipher_sentence'].values]\n",
    "\n",
    "  return train_data,validation_data,test_data\n",
    "\n",
    "train_data,validation_data,test_data = get_train_val_test_data(train_split,dev_split,test_split)"
   ]
  },
  {
   "cell_type": "code",
   "execution_count": 153,
   "metadata": {
    "colab": {
     "base_uri": "https://localhost:8080/",
     "height": 175
    },
    "id": "nDTlVkq4Q3xD",
    "outputId": "51c17c4d-c249-4f05-d6bc-cbaf34a30db4"
   },
   "outputs": [
    {
     "data": {
      "text/html": [
       "\n",
       "  <div id=\"df-2e77d864-a60b-4a21-836b-25e28b797e76\">\n",
       "    <div class=\"colab-df-container\">\n",
       "      <div>\n",
       "<style scoped>\n",
       "    .dataframe tbody tr th:only-of-type {\n",
       "        vertical-align: middle;\n",
       "    }\n",
       "\n",
       "    .dataframe tbody tr th {\n",
       "        vertical-align: top;\n",
       "    }\n",
       "\n",
       "    .dataframe thead th {\n",
       "        text-align: right;\n",
       "    }\n",
       "</style>\n",
       "<table border=\"1\" class=\"dataframe\">\n",
       "  <thead>\n",
       "    <tr style=\"text-align: right;\">\n",
       "      <th></th>\n",
       "      <th>class_label</th>\n",
       "      <th>cipher_sentence</th>\n",
       "    </tr>\n",
       "  </thead>\n",
       "  <tbody>\n",
       "    <tr>\n",
       "      <th>0</th>\n",
       "      <td>0</td>\n",
       "      <td>lkêcê yoúc cêêö y#êjl lw mówám Újám j Úêê# ütl...</td>\n",
       "    </tr>\n",
       "    <tr>\n",
       "      <th>1</th>\n",
       "      <td>0</td>\n",
       "      <td>6êcétlê jolêot8 zc éê#xw#öjóáê , tl zc j #jlkê...</td>\n",
       "    </tr>\n",
       "    <tr>\n",
       "      <th>2</th>\n",
       "      <td>0</td>\n",
       "      <td>tx lktc kw8t6jú öw2tê tc coééwcê6 lw Úê j ytxl...</td>\n",
       "    </tr>\n",
       "    <tr>\n",
       "      <th>3</th>\n",
       "      <td>1</td>\n",
       "      <td>vocl ükêó úwo lktóm lkjl ê2ê#ú éwcctÚ8ê jóy8ê ...</td>\n",
       "    </tr>\n",
       "  </tbody>\n",
       "</table>\n",
       "</div>\n",
       "      <button class=\"colab-df-convert\" onclick=\"convertToInteractive('df-2e77d864-a60b-4a21-836b-25e28b797e76')\"\n",
       "              title=\"Convert this dataframe to an interactive table.\"\n",
       "              style=\"display:none;\">\n",
       "        \n",
       "  <svg xmlns=\"http://www.w3.org/2000/svg\" height=\"24px\"viewBox=\"0 0 24 24\"\n",
       "       width=\"24px\">\n",
       "    <path d=\"M0 0h24v24H0V0z\" fill=\"none\"/>\n",
       "    <path d=\"M18.56 5.44l.94 2.06.94-2.06 2.06-.94-2.06-.94-.94-2.06-.94 2.06-2.06.94zm-11 1L8.5 8.5l.94-2.06 2.06-.94-2.06-.94L8.5 2.5l-.94 2.06-2.06.94zm10 10l.94 2.06.94-2.06 2.06-.94-2.06-.94-.94-2.06-.94 2.06-2.06.94z\"/><path d=\"M17.41 7.96l-1.37-1.37c-.4-.4-.92-.59-1.43-.59-.52 0-1.04.2-1.43.59L10.3 9.45l-7.72 7.72c-.78.78-.78 2.05 0 2.83L4 21.41c.39.39.9.59 1.41.59.51 0 1.02-.2 1.41-.59l7.78-7.78 2.81-2.81c.8-.78.8-2.07 0-2.86zM5.41 20L4 18.59l7.72-7.72 1.47 1.35L5.41 20z\"/>\n",
       "  </svg>\n",
       "      </button>\n",
       "      \n",
       "  <style>\n",
       "    .colab-df-container {\n",
       "      display:flex;\n",
       "      flex-wrap:wrap;\n",
       "      gap: 12px;\n",
       "    }\n",
       "\n",
       "    .colab-df-convert {\n",
       "      background-color: #E8F0FE;\n",
       "      border: none;\n",
       "      border-radius: 50%;\n",
       "      cursor: pointer;\n",
       "      display: none;\n",
       "      fill: #1967D2;\n",
       "      height: 32px;\n",
       "      padding: 0 0 0 0;\n",
       "      width: 32px;\n",
       "    }\n",
       "\n",
       "    .colab-df-convert:hover {\n",
       "      background-color: #E2EBFA;\n",
       "      box-shadow: 0px 1px 2px rgba(60, 64, 67, 0.3), 0px 1px 3px 1px rgba(60, 64, 67, 0.15);\n",
       "      fill: #174EA6;\n",
       "    }\n",
       "\n",
       "    [theme=dark] .colab-df-convert {\n",
       "      background-color: #3B4455;\n",
       "      fill: #D2E3FC;\n",
       "    }\n",
       "\n",
       "    [theme=dark] .colab-df-convert:hover {\n",
       "      background-color: #434B5C;\n",
       "      box-shadow: 0px 1px 3px 1px rgba(0, 0, 0, 0.15);\n",
       "      filter: drop-shadow(0px 1px 2px rgba(0, 0, 0, 0.3));\n",
       "      fill: #FFFFFF;\n",
       "    }\n",
       "  </style>\n",
       "\n",
       "      <script>\n",
       "        const buttonEl =\n",
       "          document.querySelector('#df-2e77d864-a60b-4a21-836b-25e28b797e76 button.colab-df-convert');\n",
       "        buttonEl.style.display =\n",
       "          google.colab.kernel.accessAllowed ? 'block' : 'none';\n",
       "\n",
       "        async function convertToInteractive(key) {\n",
       "          const element = document.querySelector('#df-2e77d864-a60b-4a21-836b-25e28b797e76');\n",
       "          const dataTable =\n",
       "            await google.colab.kernel.invokeFunction('convertToInteractive',\n",
       "                                                     [key], {});\n",
       "          if (!dataTable) return;\n",
       "\n",
       "          const docLinkHtml = 'Like what you see? Visit the ' +\n",
       "            '<a target=\"_blank\" href=https://colab.research.google.com/notebooks/data_table.ipynb>data table notebook</a>'\n",
       "            + ' to learn more about interactive tables.';\n",
       "          element.innerHTML = '';\n",
       "          dataTable['output_type'] = 'display_data';\n",
       "          await google.colab.output.renderOutput(dataTable, element);\n",
       "          const docLink = document.createElement('div');\n",
       "          docLink.innerHTML = docLinkHtml;\n",
       "          element.appendChild(docLink);\n",
       "        }\n",
       "      </script>\n",
       "    </div>\n",
       "  </div>\n",
       "  "
      ],
      "text/plain": [
       "   class_label                                    cipher_sentence\n",
       "0            0  lkêcê yoúc cêêö y#êjl lw mówám Újám j Úêê# ütl...\n",
       "1            0  6êcétlê jolêot8 zc éê#xw#öjóáê , tl zc j #jlkê...\n",
       "2            0  tx lktc kw8t6jú öw2tê tc coééwcê6 lw Úê j ytxl...\n",
       "3            1  vocl ükêó úwo lktóm lkjl ê2ê#ú éwcctÚ8ê jóy8ê ..."
      ]
     },
     "execution_count": 153,
     "metadata": {},
     "output_type": "execute_result"
    }
   ],
   "source": [
    "train_data.head(4)"
   ]
  },
  {
   "cell_type": "code",
   "execution_count": 154,
   "metadata": {
    "colab": {
     "base_uri": "https://localhost:8080/",
     "height": 175
    },
    "id": "ENIwq3hWRA9k",
    "outputId": "f7ec5cfb-6b08-4009-ea6a-f36925c4e17e"
   },
   "outputs": [
    {
     "data": {
      "text/html": [
       "\n",
       "  <div id=\"df-8b64c5cf-ce9b-4456-88de-b55e03704e2c\">\n",
       "    <div class=\"colab-df-container\">\n",
       "      <div>\n",
       "<style scoped>\n",
       "    .dataframe tbody tr th:only-of-type {\n",
       "        vertical-align: middle;\n",
       "    }\n",
       "\n",
       "    .dataframe tbody tr th {\n",
       "        vertical-align: top;\n",
       "    }\n",
       "\n",
       "    .dataframe thead th {\n",
       "        text-align: right;\n",
       "    }\n",
       "</style>\n",
       "<table border=\"1\" class=\"dataframe\">\n",
       "  <thead>\n",
       "    <tr style=\"text-align: right;\">\n",
       "      <th></th>\n",
       "      <th>class_label</th>\n",
       "      <th>cipher_sentence</th>\n",
       "    </tr>\n",
       "  </thead>\n",
       "  <tbody>\n",
       "    <tr>\n",
       "      <th>0</th>\n",
       "      <td>1</td>\n",
       "      <td>ów8jó Ú#j2ê8ú l#êj6c ükê#ê xêü jöê#tájó xt8öc ...</td>\n",
       "    </tr>\n",
       "    <tr>\n",
       "      <th>1</th>\n",
       "      <td>0</td>\n",
       "      <td>ê2êó öo#ékú zc ê+éê#l áwötá ltötóy jó6 xjöê6 á...</td>\n",
       "    </tr>\n",
       "    <tr>\n",
       "      <th>2</th>\n",
       "      <td>1</td>\n",
       "      <td>üt88 jcco#ê68ú #jóm jc wóê wx lkê á8ê2ê#êcl , ...</td>\n",
       "    </tr>\n",
       "    <tr>\n",
       "      <th>3</th>\n",
       "      <td>1</td>\n",
       "      <td>tl kjc j ájxxêtójlê6 , c8wééú Ú#t88tjóáê , céj...</td>\n",
       "    </tr>\n",
       "  </tbody>\n",
       "</table>\n",
       "</div>\n",
       "      <button class=\"colab-df-convert\" onclick=\"convertToInteractive('df-8b64c5cf-ce9b-4456-88de-b55e03704e2c')\"\n",
       "              title=\"Convert this dataframe to an interactive table.\"\n",
       "              style=\"display:none;\">\n",
       "        \n",
       "  <svg xmlns=\"http://www.w3.org/2000/svg\" height=\"24px\"viewBox=\"0 0 24 24\"\n",
       "       width=\"24px\">\n",
       "    <path d=\"M0 0h24v24H0V0z\" fill=\"none\"/>\n",
       "    <path d=\"M18.56 5.44l.94 2.06.94-2.06 2.06-.94-2.06-.94-.94-2.06-.94 2.06-2.06.94zm-11 1L8.5 8.5l.94-2.06 2.06-.94-2.06-.94L8.5 2.5l-.94 2.06-2.06.94zm10 10l.94 2.06.94-2.06 2.06-.94-2.06-.94-.94-2.06-.94 2.06-2.06.94z\"/><path d=\"M17.41 7.96l-1.37-1.37c-.4-.4-.92-.59-1.43-.59-.52 0-1.04.2-1.43.59L10.3 9.45l-7.72 7.72c-.78.78-.78 2.05 0 2.83L4 21.41c.39.39.9.59 1.41.59.51 0 1.02-.2 1.41-.59l7.78-7.78 2.81-2.81c.8-.78.8-2.07 0-2.86zM5.41 20L4 18.59l7.72-7.72 1.47 1.35L5.41 20z\"/>\n",
       "  </svg>\n",
       "      </button>\n",
       "      \n",
       "  <style>\n",
       "    .colab-df-container {\n",
       "      display:flex;\n",
       "      flex-wrap:wrap;\n",
       "      gap: 12px;\n",
       "    }\n",
       "\n",
       "    .colab-df-convert {\n",
       "      background-color: #E8F0FE;\n",
       "      border: none;\n",
       "      border-radius: 50%;\n",
       "      cursor: pointer;\n",
       "      display: none;\n",
       "      fill: #1967D2;\n",
       "      height: 32px;\n",
       "      padding: 0 0 0 0;\n",
       "      width: 32px;\n",
       "    }\n",
       "\n",
       "    .colab-df-convert:hover {\n",
       "      background-color: #E2EBFA;\n",
       "      box-shadow: 0px 1px 2px rgba(60, 64, 67, 0.3), 0px 1px 3px 1px rgba(60, 64, 67, 0.15);\n",
       "      fill: #174EA6;\n",
       "    }\n",
       "\n",
       "    [theme=dark] .colab-df-convert {\n",
       "      background-color: #3B4455;\n",
       "      fill: #D2E3FC;\n",
       "    }\n",
       "\n",
       "    [theme=dark] .colab-df-convert:hover {\n",
       "      background-color: #434B5C;\n",
       "      box-shadow: 0px 1px 3px 1px rgba(0, 0, 0, 0.15);\n",
       "      filter: drop-shadow(0px 1px 2px rgba(0, 0, 0, 0.3));\n",
       "      fill: #FFFFFF;\n",
       "    }\n",
       "  </style>\n",
       "\n",
       "      <script>\n",
       "        const buttonEl =\n",
       "          document.querySelector('#df-8b64c5cf-ce9b-4456-88de-b55e03704e2c button.colab-df-convert');\n",
       "        buttonEl.style.display =\n",
       "          google.colab.kernel.accessAllowed ? 'block' : 'none';\n",
       "\n",
       "        async function convertToInteractive(key) {\n",
       "          const element = document.querySelector('#df-8b64c5cf-ce9b-4456-88de-b55e03704e2c');\n",
       "          const dataTable =\n",
       "            await google.colab.kernel.invokeFunction('convertToInteractive',\n",
       "                                                     [key], {});\n",
       "          if (!dataTable) return;\n",
       "\n",
       "          const docLinkHtml = 'Like what you see? Visit the ' +\n",
       "            '<a target=\"_blank\" href=https://colab.research.google.com/notebooks/data_table.ipynb>data table notebook</a>'\n",
       "            + ' to learn more about interactive tables.';\n",
       "          element.innerHTML = '';\n",
       "          dataTable['output_type'] = 'display_data';\n",
       "          await google.colab.output.renderOutput(dataTable, element);\n",
       "          const docLink = document.createElement('div');\n",
       "          docLink.innerHTML = docLinkHtml;\n",
       "          element.appendChild(docLink);\n",
       "        }\n",
       "      </script>\n",
       "    </div>\n",
       "  </div>\n",
       "  "
      ],
      "text/plain": [
       "   class_label                                    cipher_sentence\n",
       "0            1  ów8jó Ú#j2ê8ú l#êj6c ükê#ê xêü jöê#tájó xt8öc ...\n",
       "1            0  ê2êó öo#ékú zc ê+éê#l áwötá ltötóy jó6 xjöê6 á...\n",
       "2            1  üt88 jcco#ê68ú #jóm jc wóê wx lkê á8ê2ê#êcl , ...\n",
       "3            1  tl kjc j ájxxêtójlê6 , c8wééú Ú#t88tjóáê , céj..."
      ]
     },
     "execution_count": 154,
     "metadata": {},
     "output_type": "execute_result"
    }
   ],
   "source": [
    "validation_data.head(4)"
   ]
  },
  {
   "cell_type": "code",
   "execution_count": 155,
   "metadata": {
    "colab": {
     "base_uri": "https://localhost:8080/",
     "height": 175
    },
    "id": "c-H0waEPRBmK",
    "outputId": "a22196c5-0ded-4286-9ebb-1f33790b4e24"
   },
   "outputs": [
    {
     "data": {
      "text/html": [
       "\n",
       "  <div id=\"df-c41e91a7-54fb-400e-9120-4ef4f444b021\">\n",
       "    <div class=\"colab-df-container\">\n",
       "      <div>\n",
       "<style scoped>\n",
       "    .dataframe tbody tr th:only-of-type {\n",
       "        vertical-align: middle;\n",
       "    }\n",
       "\n",
       "    .dataframe tbody tr th {\n",
       "        vertical-align: top;\n",
       "    }\n",
       "\n",
       "    .dataframe thead th {\n",
       "        text-align: right;\n",
       "    }\n",
       "</style>\n",
       "<table border=\"1\" class=\"dataframe\">\n",
       "  <thead>\n",
       "    <tr style=\"text-align: right;\">\n",
       "      <th></th>\n",
       "      <th>cipher_sentence</th>\n",
       "    </tr>\n",
       "  </thead>\n",
       "  <tbody>\n",
       "    <tr>\n",
       "      <th>0</th>\n",
       "      <td>j 6t6jáltá jó6 6o88 6wáoöêólj#ú y8w#txútóy cwx...</td>\n",
       "    </tr>\n",
       "    <tr>\n",
       "      <th>1</th>\n",
       "      <td>ówlktóy cltámc , #êj88ú , ê+áêél j 8tóyê#tóy á...</td>\n",
       "    </tr>\n",
       "    <tr>\n",
       "      <th>2</th>\n",
       "      <td>öo#ékú jó6 üt8cwó jáloj88ú öjmê j é#êllú yww6 ...</td>\n",
       "    </tr>\n",
       "    <tr>\n",
       "      <th>3</th>\n",
       "      <td>lkê xt8ö üjc é#w6oáê6 Úú vê##ú Ú#oámkêtöê# jó6...</td>\n",
       "    </tr>\n",
       "  </tbody>\n",
       "</table>\n",
       "</div>\n",
       "      <button class=\"colab-df-convert\" onclick=\"convertToInteractive('df-c41e91a7-54fb-400e-9120-4ef4f444b021')\"\n",
       "              title=\"Convert this dataframe to an interactive table.\"\n",
       "              style=\"display:none;\">\n",
       "        \n",
       "  <svg xmlns=\"http://www.w3.org/2000/svg\" height=\"24px\"viewBox=\"0 0 24 24\"\n",
       "       width=\"24px\">\n",
       "    <path d=\"M0 0h24v24H0V0z\" fill=\"none\"/>\n",
       "    <path d=\"M18.56 5.44l.94 2.06.94-2.06 2.06-.94-2.06-.94-.94-2.06-.94 2.06-2.06.94zm-11 1L8.5 8.5l.94-2.06 2.06-.94-2.06-.94L8.5 2.5l-.94 2.06-2.06.94zm10 10l.94 2.06.94-2.06 2.06-.94-2.06-.94-.94-2.06-.94 2.06-2.06.94z\"/><path d=\"M17.41 7.96l-1.37-1.37c-.4-.4-.92-.59-1.43-.59-.52 0-1.04.2-1.43.59L10.3 9.45l-7.72 7.72c-.78.78-.78 2.05 0 2.83L4 21.41c.39.39.9.59 1.41.59.51 0 1.02-.2 1.41-.59l7.78-7.78 2.81-2.81c.8-.78.8-2.07 0-2.86zM5.41 20L4 18.59l7.72-7.72 1.47 1.35L5.41 20z\"/>\n",
       "  </svg>\n",
       "      </button>\n",
       "      \n",
       "  <style>\n",
       "    .colab-df-container {\n",
       "      display:flex;\n",
       "      flex-wrap:wrap;\n",
       "      gap: 12px;\n",
       "    }\n",
       "\n",
       "    .colab-df-convert {\n",
       "      background-color: #E8F0FE;\n",
       "      border: none;\n",
       "      border-radius: 50%;\n",
       "      cursor: pointer;\n",
       "      display: none;\n",
       "      fill: #1967D2;\n",
       "      height: 32px;\n",
       "      padding: 0 0 0 0;\n",
       "      width: 32px;\n",
       "    }\n",
       "\n",
       "    .colab-df-convert:hover {\n",
       "      background-color: #E2EBFA;\n",
       "      box-shadow: 0px 1px 2px rgba(60, 64, 67, 0.3), 0px 1px 3px 1px rgba(60, 64, 67, 0.15);\n",
       "      fill: #174EA6;\n",
       "    }\n",
       "\n",
       "    [theme=dark] .colab-df-convert {\n",
       "      background-color: #3B4455;\n",
       "      fill: #D2E3FC;\n",
       "    }\n",
       "\n",
       "    [theme=dark] .colab-df-convert:hover {\n",
       "      background-color: #434B5C;\n",
       "      box-shadow: 0px 1px 3px 1px rgba(0, 0, 0, 0.15);\n",
       "      filter: drop-shadow(0px 1px 2px rgba(0, 0, 0, 0.3));\n",
       "      fill: #FFFFFF;\n",
       "    }\n",
       "  </style>\n",
       "\n",
       "      <script>\n",
       "        const buttonEl =\n",
       "          document.querySelector('#df-c41e91a7-54fb-400e-9120-4ef4f444b021 button.colab-df-convert');\n",
       "        buttonEl.style.display =\n",
       "          google.colab.kernel.accessAllowed ? 'block' : 'none';\n",
       "\n",
       "        async function convertToInteractive(key) {\n",
       "          const element = document.querySelector('#df-c41e91a7-54fb-400e-9120-4ef4f444b021');\n",
       "          const dataTable =\n",
       "            await google.colab.kernel.invokeFunction('convertToInteractive',\n",
       "                                                     [key], {});\n",
       "          if (!dataTable) return;\n",
       "\n",
       "          const docLinkHtml = 'Like what you see? Visit the ' +\n",
       "            '<a target=\"_blank\" href=https://colab.research.google.com/notebooks/data_table.ipynb>data table notebook</a>'\n",
       "            + ' to learn more about interactive tables.';\n",
       "          element.innerHTML = '';\n",
       "          dataTable['output_type'] = 'display_data';\n",
       "          await google.colab.output.renderOutput(dataTable, element);\n",
       "          const docLink = document.createElement('div');\n",
       "          docLink.innerHTML = docLinkHtml;\n",
       "          element.appendChild(docLink);\n",
       "        }\n",
       "      </script>\n",
       "    </div>\n",
       "  </div>\n",
       "  "
      ],
      "text/plain": [
       "                                     cipher_sentence\n",
       "0  j 6t6jáltá jó6 6o88 6wáoöêólj#ú y8w#txútóy cwx...\n",
       "1  ówlktóy cltámc , #êj88ú , ê+áêél j 8tóyê#tóy á...\n",
       "2  öo#ékú jó6 üt8cwó jáloj88ú öjmê j é#êllú yww6 ...\n",
       "3  lkê xt8ö üjc é#w6oáê6 Úú vê##ú Ú#oámkêtöê# jó6..."
      ]
     },
     "execution_count": 155,
     "metadata": {},
     "output_type": "execute_result"
    }
   ],
   "source": [
    "test_data.head(4)"
   ]
  },
  {
   "cell_type": "code",
   "execution_count": 156,
   "metadata": {
    "colab": {
     "base_uri": "https://localhost:8080/"
    },
    "id": "6jEJl5i4s9ez",
    "outputId": "9cea9c27-210b-4ec4-9701-f0ab48253042"
   },
   "outputs": [
    {
     "name": "stdout",
     "output_type": "stream",
     "text": [
      "Shape of Train data  (16220, 2)\n",
      "Shape of Validation data  (2027, 2)\n",
      "Shape of Test data  (2028, 1)\n"
     ]
    }
   ],
   "source": [
    "print('Shape of Train data ',train_data.shape)\n",
    "print('Shape of Validation data ',validation_data.shape)\n",
    "print('Shape of Test data ',test_data.shape)"
   ]
  },
  {
   "cell_type": "code",
   "execution_count": 157,
   "metadata": {
    "id": "PhuGmN5NRXUr"
   },
   "outputs": [],
   "source": [
    "def get_hyperparameters():\n",
    "  return 70000,350,100,0.25,'adam',5,32,0.03\n",
    "\n",
    "max_words, max_length_of_seq,dimensions_of_emb,dropout,optimizer,num_epochs,batch,validation_split_up = get_hyperparameters()"
   ]
  },
  {
   "cell_type": "code",
   "execution_count": 159,
   "metadata": {
    "id": "eQFJ5WCqRXbj"
   },
   "outputs": [],
   "source": [
    "def process_data(train_data,validation_data):\n",
    "  tokenzing_text = Tokenizer(num_words=max_words,lower=True)\n",
    "  tokenzing_text.fit_on_texts(train_data['cipher_sentence'].values)\n",
    "  word_index = tokenzing_text.word_index\n",
    "  t_data_x = tokenzing_text.texts_to_sequences(train_data['cipher_sentence'].values)\n",
    "  t_data_x = pad_sequences(t_data_x, maxlen=max_length_of_seq)\n",
    "  \n",
    "  v_data_x = tokenzing_text.texts_to_sequences(validation_data['cipher_sentence'].values)\n",
    "  v_data_x = pad_sequences(v_data_x, maxlen=max_length_of_seq)\n",
    "  return t_data_x, v_data_x, tokenzing_text\n",
    "\n",
    "t_data_x, v_data_x, tokenzing_text = process_data(train_data,validation_data)\n",
    "\n",
    "train_data_x, val_data_x, train_data_y, val_data_y = t_data_x,v_data_x,pd.get_dummies(train_data['class_label']).values,pd.get_dummies(validation_data['class_label']).values"
   ]
  },
  {
   "cell_type": "code",
   "execution_count": 160,
   "metadata": {
    "colab": {
     "base_uri": "https://localhost:8080/"
    },
    "id": "drFLVbl_qUVh",
    "outputId": "c998dae7-59d0-4547-e8fe-54307c7f4f62"
   },
   "outputs": [
    {
     "data": {
      "text/plain": [
       "array([[1, 0],\n",
       "       [1, 0],\n",
       "       [1, 0],\n",
       "       ...,\n",
       "       [0, 1],\n",
       "       [1, 0],\n",
       "       [1, 0]], dtype=uint8)"
      ]
     },
     "execution_count": 160,
     "metadata": {},
     "output_type": "execute_result"
    }
   ],
   "source": [
    "train_data_y"
   ]
  },
  {
   "cell_type": "code",
   "execution_count": 161,
   "metadata": {
    "colab": {
     "base_uri": "https://localhost:8080/"
    },
    "id": "FTmvhR07RXxu",
    "outputId": "f9393270-c9d9-4662-d56b-534e584bafa7"
   },
   "outputs": [
    {
     "name": "stdout",
     "output_type": "stream",
     "text": [
      "Epoch 1/5\n",
      "507/507 [==============================] - 478s 929ms/step - loss: 0.5053 - accuracy: 0.7472 - val_loss: 0.3672 - val_accuracy: 0.8481\n",
      "Epoch 2/5\n",
      "507/507 [==============================] - 465s 918ms/step - loss: 0.2541 - accuracy: 0.9019 - val_loss: 0.3349 - val_accuracy: 0.8653\n",
      "Epoch 3/5\n",
      "507/507 [==============================] - 461s 909ms/step - loss: 0.1558 - accuracy: 0.9448 - val_loss: 0.3838 - val_accuracy: 0.8791\n",
      "Epoch 4/5\n",
      "507/507 [==============================] - 457s 902ms/step - loss: 0.1116 - accuracy: 0.9597 - val_loss: 0.3476 - val_accuracy: 0.8811\n",
      "Epoch 5/5\n",
      "507/507 [==============================] - 459s 906ms/step - loss: 0.0822 - accuracy: 0.9682 - val_loss: 0.4763 - val_accuracy: 0.8885\n"
     ]
    }
   ],
   "source": [
    "def lstm(train_data_x,train_data_y):\n",
    "  max_words, max_length_of_seq,dimensions_of_emb,dropout,optimizer,num_epochs,batch,validation_split_up = get_hyperparameters()\n",
    "\n",
    "  lstm_model = Sequential()\n",
    "  lstm_model.add(Embedding(max_words, dimensions_of_emb, input_length = train_data_x.shape[1]))\n",
    "  lstm_model.add(LSTM(50, activation = 'tanh', recurrent_activation = 'hard_sigmoid', dropout = dropout, recurrent_dropout = dropout, return_sequences = True))\n",
    "  lstm_model.add(LSTM(20, activation = 'tanh', recurrent_activation = 'hard_sigmoid', dropout = 0.35, recurrent_dropout = 0.35))\n",
    "  lstm_model.add(Dense(2, activation = 'softmax'))\n",
    "  lstm_model.compile(loss = 'categorical_crossentropy', optimizer = optimizer, metrics=['accuracy'])\n",
    "  \n",
    "  epochs = num_epochs\n",
    "  batch_size = batch\n",
    "  full_data = lstm_model.fit(train_data_x, train_data_y, epochs=epochs, batch_size = batch_size, validation_data=(val_data_x,val_data_y),callbacks=[EarlyStopping(monitor='val_accuracy', patience=3, min_delta=0.0001)])\n",
    "  return lstm_model\n",
    "\n",
    "lstm_model = lstm(train_data_x,train_data_y)"
   ]
  },
  {
   "cell_type": "code",
   "execution_count": 162,
   "metadata": {
    "colab": {
     "base_uri": "https://localhost:8080/"
    },
    "id": "mi_1OoKPRYAM",
    "outputId": "e78ea64b-d0f0-4fd0-a71d-43a2d78acf2a"
   },
   "outputs": [
    {
     "name": "stdout",
     "output_type": "stream",
     "text": [
      "Total correct : 1801\n",
      "Accuracy : 0.8885051800690675\n"
     ]
    }
   ],
   "source": [
    "def get_dev_set_accurcy(accurate_lstm_model,tokenzing_text):\n",
    "\n",
    "  file=open('./dev_enc.tsv','r')\n",
    "  lines = file.readlines()\n",
    "  ground_labels,ground_sentences=[],[]\n",
    "  for line in lines:\n",
    "    ground_labels.append(line.split()[0])\n",
    "    ground_sentences.append(\" \".join(line.split()[1:]))\n",
    "\n",
    "  results = []\n",
    "  for sentence in ground_sentences:\n",
    "    val_data = [sentence]\n",
    "    temp_seq = tokenzing_text.texts_to_sequences(val_data)\n",
    "    data_padded = pad_sequences(temp_seq, maxlen=max_length_of_seq)\n",
    "    predicted = accurate_lstm_model.predict(data_padded)\n",
    "    class_labels = ['0', '1']\n",
    "    results.append(class_labels[np.argmax(predicted)])\n",
    "  \n",
    "  total = len(ground_labels)\n",
    "  correct =0\n",
    "  for i in range(len(ground_labels)):\n",
    "    if results[i]==ground_labels[i]:\n",
    "      correct+=1\n",
    "  print('Total correct :',correct)\n",
    "  print('Accuracy :',correct/total)\n",
    "\n",
    "  return results\n",
    "\n",
    "results = get_dev_set_accurcy(lstm_model,tokenzing_text)"
   ]
  },
  {
   "cell_type": "code",
   "execution_count": 163,
   "metadata": {
    "colab": {
     "base_uri": "https://localhost:8080/"
    },
    "id": "XGOLRcbhRYCe",
    "outputId": "215359ae-335f-4d7f-f372-8c0f3e7bb366"
   },
   "outputs": [
    {
     "name": "stdout",
     "output_type": "stream",
     "text": [
      "Dev set Split up\n",
      "1 : 1079\n",
      "0 : 948\n"
     ]
    }
   ],
   "source": [
    "num_of_ones,num_of_zeros = 0,0\n",
    "for i in results:\n",
    "  if i=='1':\n",
    "    num_of_ones+=1\n",
    "  else:\n",
    "    num_of_zeros+=1\n",
    "print('Dev set Split up')\n",
    "print('1 :',num_of_ones)\n",
    "print('0 :',num_of_zeros)"
   ]
  },
  {
   "cell_type": "code",
   "execution_count": 164,
   "metadata": {
    "id": "SdFRvpD3RYKc"
   },
   "outputs": [],
   "source": [
    "def get_test_set_accurcy(accurate_lstm_model,tokenzing_text):\n",
    "\n",
    "  file=open('./test_enc_unlabeled.tsv','r')\n",
    "  lines = file.readlines()\n",
    "  ground_sentences=[]\n",
    "  for line in lines:\n",
    "    ground_sentences.append(\" \".join(line.split()[1:]))\n",
    "\n",
    "  results = []\n",
    "  for sentence in ground_sentences:\n",
    "    test_data = [sentence]\n",
    "    temp_seq = tokenzing_text.texts_to_sequences(test_data)\n",
    "    data_padded = pad_sequences(temp_seq, maxlen=max_length_of_seq)\n",
    "    predicted = accurate_lstm_model.predict(data_padded)\n",
    "    class_labels = ['0', '1']\n",
    "    results.append(class_labels[np.argmax(predicted)])\n",
    "  \n",
    "  return results\n",
    "\n",
    "results = get_test_set_accurcy(lstm_model,tokenzing_text)"
   ]
  },
  {
   "cell_type": "code",
   "execution_count": 165,
   "metadata": {
    "colab": {
     "base_uri": "https://localhost:8080/"
    },
    "id": "oxjurbTLRYPo",
    "outputId": "f27c7dbc-b0e4-4690-c630-b53ac9ac707f"
   },
   "outputs": [
    {
     "name": "stdout",
     "output_type": "stream",
     "text": [
      "Test set Split up\n",
      "1 : 1016\n",
      "0 : 1012\n"
     ]
    }
   ],
   "source": [
    "num_of_ones,num_of_zeros = 0,0\n",
    "for i in results:\n",
    "  if i=='1':\n",
    "    num_of_ones+=1\n",
    "  else:\n",
    "    num_of_zeros+=1\n",
    "print('Test set Split up')\n",
    "print('1 :',num_of_ones)\n",
    "print('0 :',num_of_zeros)"
   ]
  },
  {
   "cell_type": "markdown",
   "metadata": {
    "id": "83RI0QZhv0sk"
   },
   "source": [
    "### Output Prediction Result File"
   ]
  },
  {
   "cell_type": "markdown",
   "metadata": {
    "id": "m6A00HwYv0sl"
   },
   "source": [
    "You will need to submit a prediction result file. It should have 2028 lines, every line should be either 0 or 1, which is your model's prediction on the respective test set instance."
   ]
  },
  {
   "cell_type": "code",
   "execution_count": 166,
   "metadata": {
    "id": "Woe1Ejqzv0sl"
   },
   "outputs": [],
   "source": [
    "# suppose you had your model's predictions on the 2028 test cases read from test_enc_unlabeled.tsv, and \n",
    "#those results are in the list called 'results'\n",
    "assert (len(results) == 2028)"
   ]
  },
  {
   "cell_type": "code",
   "execution_count": 167,
   "metadata": {
    "id": "_Rs9SoxHv0sl"
   },
   "outputs": [],
   "source": [
    "# make sure the results are not float numbers, but intergers 0 and 1\n",
    "results = [int(x) for x in results]"
   ]
  },
  {
   "cell_type": "code",
   "execution_count": 168,
   "metadata": {
    "id": "jQwrF6xYv0sm"
   },
   "outputs": [],
   "source": [
    "# write your prediction results to 'upload_predictions.txt' and upload that later\n",
    "with open('upload_predictions.txt', 'w', encoding = 'utf-8') as fp:\n",
    "    for x in results:\n",
    "        fp.write(str(x) + '\\n')"
   ]
  }
 ],
 "metadata": {
  "accelerator": "TPU",
  "colab": {
   "collapsed_sections": [],
   "machine_shape": "hm",
   "name": "NLP_LSTM_Working_Code.ipynb",
   "provenance": []
  },
  "kernelspec": {
   "display_name": "Python 3 (ipykernel)",
   "language": "python",
   "name": "python3"
  },
  "language_info": {
   "codemirror_mode": {
    "name": "ipython",
    "version": 3
   },
   "file_extension": ".py",
   "mimetype": "text/x-python",
   "name": "python",
   "nbconvert_exporter": "python",
   "pygments_lexer": "ipython3",
   "version": "3.8.11"
  }
 },
 "nbformat": 4,
 "nbformat_minor": 1
}
